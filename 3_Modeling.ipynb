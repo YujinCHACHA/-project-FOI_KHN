{
  "cells": [
    {
      "cell_type": "markdown",
      "metadata": {
        "id": "view-in-github",
        "colab_type": "text"
      },
      "source": [
        "<a href=\"https://colab.research.google.com/github/YujinCHACHA/-project-FOI_KHN/blob/main/3_Modeling.ipynb\" target=\"_parent\"><img src=\"https://colab.research.google.com/assets/colab-badge.svg\" alt=\"Open In Colab\"/></a>"
      ]
    },
    {
      "cell_type": "markdown",
      "metadata": {
        "id": "RrP-Y8XcBCZs"
      },
      "source": [
        "# 라이브러리 import"
      ]
    },
    {
      "cell_type": "code",
      "execution_count": null,
      "metadata": {
        "colab": {
          "base_uri": "https://localhost:8080/"
        },
        "id": "bndhS7xayPxB",
        "outputId": "c9bd2026-e4b3-48ed-bf82-f00abe984d08"
      },
      "outputs": [
        {
          "output_type": "stream",
          "name": "stdout",
          "text": [
            "Looking in indexes: https://pypi.org/simple, https://us-python.pkg.dev/colab-wheels/public/simple/\n",
            "Collecting fast_ml\n",
            "  Downloading fast_ml-3.68-py3-none-any.whl (42 kB)\n",
            "\u001b[2K     \u001b[90m━━━━━━━━━━━━━━━━━━━━━━━━━━━━━━━━━━━━━━━━\u001b[0m \u001b[32m42.1/42.1 KB\u001b[0m \u001b[31m1.5 MB/s\u001b[0m eta \u001b[36m0:00:00\u001b[0m\n",
            "\u001b[?25hInstalling collected packages: fast_ml\n",
            "Successfully installed fast_ml-3.68\n"
          ]
        }
      ],
      "source": [
        "pip install fast_ml"
      ]
    },
    {
      "cell_type": "code",
      "execution_count": null,
      "metadata": {
        "colab": {
          "base_uri": "https://localhost:8080/"
        },
        "id": "GRaEspxg1vk_",
        "outputId": "cbf18dd3-5d73-4e0a-c72a-92bde3b3ef3d"
      },
      "outputs": [
        {
          "output_type": "stream",
          "name": "stdout",
          "text": [
            "Looking in indexes: https://pypi.org/simple, https://us-python.pkg.dev/colab-wheels/public/simple/\n",
            "Collecting scikeras\n",
            "  Downloading scikeras-0.10.0-py3-none-any.whl (27 kB)\n",
            "Requirement already satisfied: packaging>=0.21 in /usr/local/lib/python3.8/dist-packages (from scikeras) (23.0)\n",
            "Requirement already satisfied: scikit-learn>=1.0.0 in /usr/local/lib/python3.8/dist-packages (from scikeras) (1.0.2)\n",
            "Requirement already satisfied: numpy>=1.14.6 in /usr/local/lib/python3.8/dist-packages (from scikit-learn>=1.0.0->scikeras) (1.21.6)\n",
            "Requirement already satisfied: joblib>=0.11 in /usr/local/lib/python3.8/dist-packages (from scikit-learn>=1.0.0->scikeras) (1.2.0)\n",
            "Requirement already satisfied: scipy>=1.1.0 in /usr/local/lib/python3.8/dist-packages (from scikit-learn>=1.0.0->scikeras) (1.7.3)\n",
            "Requirement already satisfied: threadpoolctl>=2.0.0 in /usr/local/lib/python3.8/dist-packages (from scikit-learn>=1.0.0->scikeras) (3.1.0)\n",
            "Installing collected packages: scikeras\n",
            "Successfully installed scikeras-0.10.0\n"
          ]
        }
      ],
      "source": [
        "pip install scikeras"
      ]
    },
    {
      "cell_type": "code",
      "execution_count": null,
      "metadata": {
        "id": "CWiRqECyA76H"
      },
      "outputs": [],
      "source": [
        "import pandas as pd\n",
        "import numpy as np\n",
        "from sklearn.model_selection import train_test_split\n",
        "import keras.models\n",
        "from keras.models import Sequential\n",
        "from keras.layers import Activation, Dense, BatchNormalization, Dropout\n",
        "from fast_ml.model_development import train_valid_test_split"
      ]
    },
    {
      "cell_type": "code",
      "execution_count": null,
      "metadata": {
        "id": "J1aA-i_i9P3c"
      },
      "outputs": [],
      "source": [
        "import pandas as pd"
      ]
    },
    {
      "cell_type": "markdown",
      "metadata": {
        "id": "MitGC6iQBBFl"
      },
      "source": [
        "# 데이터 불러오기 \n"
      ]
    },
    {
      "cell_type": "code",
      "execution_count": null,
      "metadata": {
        "colab": {
          "base_uri": "https://localhost:8080/"
        },
        "id": "YEfmYAIiAZ05",
        "outputId": "83ad3dc3-b1a7-4415-85ba-8aa22d6e8652"
      },
      "outputs": [
        {
          "output_type": "stream",
          "name": "stdout",
          "text": [
            "Mounted at /content/drive\n"
          ]
        }
      ],
      "source": [
        "from google.colab import drive\n",
        "drive.mount('/content/drive')"
      ]
    },
    {
      "cell_type": "code",
      "execution_count": null,
      "metadata": {
        "id": "nvjnaqh8ASmv"
      },
      "outputs": [],
      "source": [
        "data = pd.read_csv('/content/drive/MyDrive/Special class/data_scaled_final.csv')"
      ]
    },
    {
      "cell_type": "code",
      "execution_count": null,
      "metadata": {
        "id": "8HTJIIALBdg-"
      },
      "outputs": [],
      "source": [
        "data = data.drop(columns = ['Unnamed: 0'])"
      ]
    },
    {
      "cell_type": "code",
      "execution_count": null,
      "metadata": {
        "id": "P99Nmhdr8_WM"
      },
      "outputs": [],
      "source": [
        "data= data[['고혈압 의사진단 여부(부)','교육수준 재분류 코드','교육수준: 학력','(성인) 유년기환경: 아버지 교육수준','(성인) 유년기환경: 어머니 교육수준','소득 5분위수(가구)','가구 세대구성코드_4','소득 4분위수(가구)','가구원수','지방','최종 이완기 혈압(2,3차 평균)','직업재분류 및 실업/비경제활동 상태 코드_1','(만12세이상) 한 번에 마시는 음주량']]"
      ]
    },
    {
      "cell_type": "markdown",
      "metadata": {
        "id": "uHulkVXNA_jo"
      },
      "source": [
        "# train-test split"
      ]
    },
    {
      "cell_type": "code",
      "execution_count": null,
      "metadata": {
        "id": "kiSRKwLIBoHt"
      },
      "outputs": [],
      "source": [
        "#X = data[['만나이','가구 세대구성코드_2','기혼|사별','결혼상태','혈중요소질소','직업재분류 및 실업/비경제활동 상태 코드_4','가구 세대구성코드_1','교육수준 재분류 코드','교육수준: 학력','(성인) 유년기환경: 아버지 교육수준','(성인) 유년기환경: 어머니 교육수준','고혈압 의사진단 여부(형제자매)','소득 5분위수(가구)','가구 세대구성코드_4','소득 4분위수(가구)','가구원수','지방','최종 이완기 혈압(2,3차 평균)','직업재분류 및 실업/비경제활동 상태 코드_1','(만12세이상) 한 번에 마시는 음주량']]\n",
        "#Y = data['고혈압 의사진단 여부(부)']"
      ]
    },
    {
      "cell_type": "code",
      "execution_count": null,
      "metadata": {
        "id": "X_5p5-XNxkJ9"
      },
      "outputs": [],
      "source": [
        "X_train, y_train, X_valid, y_valid, X_test, y_test = train_valid_test_split(data, target = '고혈압 의사진단 여부(부)', \n",
        "                                                                            train_size=0.7, valid_size=0.2, test_size=0.1)"
      ]
    },
    {
      "cell_type": "code",
      "execution_count": null,
      "metadata": {
        "id": "bM3poCO3CInP"
      },
      "outputs": [],
      "source": [
        "valid = pd.concat([X_valid,y_valid])"
      ]
    },
    {
      "cell_type": "markdown",
      "metadata": {
        "id": "BIG_1XToDD9p"
      },
      "source": [
        "# binary classification 파이프라인"
      ]
    },
    {
      "cell_type": "code",
      "execution_count": null,
      "metadata": {
        "id": "FzaosRy21sR8"
      },
      "outputs": [],
      "source": [
        "import pandas as pd\n",
        "import tensorflow as tf\n",
        "from tensorflow.keras.models import Sequential\n",
        "from tensorflow.keras.layers import Dense\n",
        "from scikeras.wrappers import KerasClassifier\n",
        "from sklearn.model_selection import cross_val_score\n",
        "from sklearn.preprocessing import LabelEncoder\n",
        "from sklearn.model_selection import StratifiedKFold\n",
        "from sklearn.preprocessing import StandardScaler\n",
        "from sklearn.pipeline import Pipeline\n",
        "from tensorflow.keras.optimizers import SGD\n",
        "from tensorflow.keras.optimizers.experimental import AdamW"
      ]
    },
    {
      "cell_type": "code",
      "execution_count": null,
      "metadata": {
        "id": "-AxXO1jnDH1c",
        "colab": {
          "base_uri": "https://localhost:8080/"
        },
        "outputId": "e282874c-cbd7-453a-d627-f8bb8f0b21d1"
      },
      "outputs": [
        {
          "output_type": "stream",
          "name": "stdout",
          "text": [
            "Epoch 1/100\n",
            "2408/2408 [==============================] - 9s 3ms/step - loss: 0.1677 - MAE: 0.3476 - val_loss: 0.1473 - val_MAE: 0.3018\n",
            "Epoch 2/100\n",
            "2408/2408 [==============================] - 8s 3ms/step - loss: 0.1494 - MAE: 0.3005 - val_loss: 0.1459 - val_MAE: 0.2931\n",
            "Epoch 3/100\n",
            "2408/2408 [==============================] - 6s 3ms/step - loss: 0.1483 - MAE: 0.2959 - val_loss: 0.1455 - val_MAE: 0.3005\n",
            "Epoch 4/100\n",
            "2408/2408 [==============================] - 7s 3ms/step - loss: 0.1479 - MAE: 0.2964 - val_loss: 0.1453 - val_MAE: 0.2962\n",
            "Epoch 5/100\n",
            "2408/2408 [==============================] - 6s 3ms/step - loss: 0.1477 - MAE: 0.2950 - val_loss: 0.1454 - val_MAE: 0.2915\n",
            "Epoch 6/100\n",
            "2408/2408 [==============================] - 7s 3ms/step - loss: 0.1471 - MAE: 0.2938 - val_loss: 0.1452 - val_MAE: 0.2987\n",
            "Epoch 7/100\n",
            "2408/2408 [==============================] - 7s 3ms/step - loss: 0.1473 - MAE: 0.2946 - val_loss: 0.1450 - val_MAE: 0.2959\n",
            "Epoch 8/100\n",
            "2408/2408 [==============================] - 8s 3ms/step - loss: 0.1474 - MAE: 0.2951 - val_loss: 0.1449 - val_MAE: 0.2971\n",
            "Epoch 9/100\n",
            "2408/2408 [==============================] - 6s 3ms/step - loss: 0.1469 - MAE: 0.2954 - val_loss: 0.1453 - val_MAE: 0.2831\n",
            "Epoch 10/100\n",
            "2408/2408 [==============================] - 7s 3ms/step - loss: 0.1474 - MAE: 0.2938 - val_loss: 0.1454 - val_MAE: 0.2928\n",
            "Epoch 11/100\n",
            "2408/2408 [==============================] - 6s 3ms/step - loss: 0.1463 - MAE: 0.2919 - val_loss: 0.1446 - val_MAE: 0.2942\n",
            "Epoch 12/100\n",
            "2408/2408 [==============================] - 7s 3ms/step - loss: 0.1466 - MAE: 0.2941 - val_loss: 0.1453 - val_MAE: 0.2895\n",
            "Epoch 13/100\n",
            "2408/2408 [==============================] - 6s 3ms/step - loss: 0.1469 - MAE: 0.2926 - val_loss: 0.1452 - val_MAE: 0.2997\n",
            "Epoch 14/100\n",
            "2408/2408 [==============================] - 6s 3ms/step - loss: 0.1467 - MAE: 0.2940 - val_loss: 0.1448 - val_MAE: 0.2946\n",
            "Epoch 15/100\n",
            "2408/2408 [==============================] - 7s 3ms/step - loss: 0.1465 - MAE: 0.2937 - val_loss: 0.1445 - val_MAE: 0.2901\n",
            "Epoch 16/100\n",
            "2408/2408 [==============================] - 6s 3ms/step - loss: 0.1465 - MAE: 0.2918 - val_loss: 0.1445 - val_MAE: 0.2934\n",
            "Epoch 17/100\n",
            "2408/2408 [==============================] - 6s 3ms/step - loss: 0.1466 - MAE: 0.2931 - val_loss: 0.1445 - val_MAE: 0.2958\n",
            "Epoch 18/100\n",
            "2408/2408 [==============================] - 7s 3ms/step - loss: 0.1468 - MAE: 0.2944 - val_loss: 0.1448 - val_MAE: 0.2904\n",
            "Epoch 19/100\n",
            "2408/2408 [==============================] - 7s 3ms/step - loss: 0.1468 - MAE: 0.2934 - val_loss: 0.1445 - val_MAE: 0.2932\n",
            "Epoch 20/100\n",
            "2408/2408 [==============================] - 6s 3ms/step - loss: 0.1468 - MAE: 0.2934 - val_loss: 0.1446 - val_MAE: 0.2912\n",
            "Epoch 21/100\n",
            "2408/2408 [==============================] - 7s 3ms/step - loss: 0.1466 - MAE: 0.2934 - val_loss: 0.1446 - val_MAE: 0.2913\n",
            "Epoch 22/100\n",
            "2408/2408 [==============================] - 6s 3ms/step - loss: 0.1467 - MAE: 0.2939 - val_loss: 0.1444 - val_MAE: 0.2870\n",
            "Epoch 23/100\n",
            "2408/2408 [==============================] - 7s 3ms/step - loss: 0.1464 - MAE: 0.2920 - val_loss: 0.1450 - val_MAE: 0.2921\n",
            "Epoch 24/100\n",
            "2408/2408 [==============================] - 6s 3ms/step - loss: 0.1467 - MAE: 0.2934 - val_loss: 0.1447 - val_MAE: 0.2934\n",
            "Epoch 25/100\n",
            "2408/2408 [==============================] - 7s 3ms/step - loss: 0.1466 - MAE: 0.2923 - val_loss: 0.1445 - val_MAE: 0.2941\n",
            "Epoch 26/100\n",
            "2408/2408 [==============================] - 7s 3ms/step - loss: 0.1467 - MAE: 0.2941 - val_loss: 0.1445 - val_MAE: 0.2918\n",
            "Epoch 27/100\n",
            "2408/2408 [==============================] - 7s 3ms/step - loss: 0.1465 - MAE: 0.2928 - val_loss: 0.1446 - val_MAE: 0.2928\n",
            "Epoch 28/100\n",
            "2408/2408 [==============================] - 6s 2ms/step - loss: 0.1468 - MAE: 0.2932 - val_loss: 0.1449 - val_MAE: 0.2954\n",
            "Epoch 29/100\n",
            "2408/2408 [==============================] - 7s 3ms/step - loss: 0.1466 - MAE: 0.2943 - val_loss: 0.1446 - val_MAE: 0.2900\n",
            "Epoch 30/100\n",
            "2408/2408 [==============================] - 7s 3ms/step - loss: 0.1465 - MAE: 0.2925 - val_loss: 0.1448 - val_MAE: 0.2916\n",
            "Epoch 31/100\n",
            "2408/2408 [==============================] - 7s 3ms/step - loss: 0.1465 - MAE: 0.2928 - val_loss: 0.1448 - val_MAE: 0.2919\n",
            "Epoch 32/100\n",
            "2408/2408 [==============================] - 7s 3ms/step - loss: 0.1468 - MAE: 0.2933 - val_loss: 0.1445 - val_MAE: 0.2949\n",
            "Epoch 33/100\n",
            "2408/2408 [==============================] - 7s 3ms/step - loss: 0.1469 - MAE: 0.2929 - val_loss: 0.1446 - val_MAE: 0.2940\n",
            "Epoch 34/100\n",
            "2408/2408 [==============================] - 7s 3ms/step - loss: 0.1464 - MAE: 0.2925 - val_loss: 0.1449 - val_MAE: 0.3009\n",
            "Epoch 35/100\n",
            "2408/2408 [==============================] - 7s 3ms/step - loss: 0.1466 - MAE: 0.2936 - val_loss: 0.1446 - val_MAE: 0.2945\n",
            "Epoch 36/100\n",
            "2408/2408 [==============================] - 6s 2ms/step - loss: 0.1466 - MAE: 0.2935 - val_loss: 0.1445 - val_MAE: 0.2903\n",
            "Epoch 37/100\n",
            "2408/2408 [==============================] - 7s 3ms/step - loss: 0.1465 - MAE: 0.2926 - val_loss: 0.1445 - val_MAE: 0.2899\n",
            "Epoch 38/100\n",
            "2408/2408 [==============================] - 7s 3ms/step - loss: 0.1464 - MAE: 0.2924 - val_loss: 0.1445 - val_MAE: 0.2910\n",
            "Epoch 39/100\n",
            "2408/2408 [==============================] - 7s 3ms/step - loss: 0.1466 - MAE: 0.2933 - val_loss: 0.1444 - val_MAE: 0.2929\n",
            "Epoch 40/100\n",
            "2408/2408 [==============================] - 7s 3ms/step - loss: 0.1467 - MAE: 0.2934 - val_loss: 0.1445 - val_MAE: 0.2893\n",
            "Epoch 41/100\n",
            "2408/2408 [==============================] - 7s 3ms/step - loss: 0.1462 - MAE: 0.2919 - val_loss: 0.1442 - val_MAE: 0.2915\n",
            "Epoch 42/100\n",
            "2408/2408 [==============================] - 7s 3ms/step - loss: 0.1466 - MAE: 0.2931 - val_loss: 0.1443 - val_MAE: 0.2898\n",
            "Epoch 43/100\n",
            "2408/2408 [==============================] - 7s 3ms/step - loss: 0.1463 - MAE: 0.2929 - val_loss: 0.1446 - val_MAE: 0.2890\n",
            "Epoch 44/100\n",
            "2408/2408 [==============================] - 7s 3ms/step - loss: 0.1463 - MAE: 0.2922 - val_loss: 0.1445 - val_MAE: 0.2892\n",
            "Epoch 45/100\n",
            "2408/2408 [==============================] - 7s 3ms/step - loss: 0.1462 - MAE: 0.2923 - val_loss: 0.1442 - val_MAE: 0.2896\n",
            "Epoch 46/100\n",
            "2408/2408 [==============================] - 7s 3ms/step - loss: 0.1464 - MAE: 0.2929 - val_loss: 0.1444 - val_MAE: 0.2918\n",
            "Epoch 47/100\n",
            "2408/2408 [==============================] - 7s 3ms/step - loss: 0.1462 - MAE: 0.2920 - val_loss: 0.1445 - val_MAE: 0.2868\n",
            "Epoch 48/100\n",
            "2408/2408 [==============================] - 7s 3ms/step - loss: 0.1463 - MAE: 0.2922 - val_loss: 0.1446 - val_MAE: 0.2890\n",
            "Epoch 49/100\n",
            "2408/2408 [==============================] - 6s 2ms/step - loss: 0.1464 - MAE: 0.2925 - val_loss: 0.1445 - val_MAE: 0.2931\n",
            "Epoch 50/100\n",
            "2408/2408 [==============================] - 7s 3ms/step - loss: 0.1463 - MAE: 0.2925 - val_loss: 0.1445 - val_MAE: 0.2906\n",
            "Epoch 51/100\n",
            "2408/2408 [==============================] - 6s 3ms/step - loss: 0.1466 - MAE: 0.2930 - val_loss: 0.1446 - val_MAE: 0.2923\n",
            "Epoch 52/100\n",
            "2408/2408 [==============================] - 7s 3ms/step - loss: 0.1463 - MAE: 0.2929 - val_loss: 0.1447 - val_MAE: 0.2899\n",
            "Epoch 53/100\n",
            "2408/2408 [==============================] - 7s 3ms/step - loss: 0.1461 - MAE: 0.2919 - val_loss: 0.1445 - val_MAE: 0.2901\n",
            "Epoch 54/100\n",
            "2408/2408 [==============================] - 7s 3ms/step - loss: 0.1466 - MAE: 0.2933 - val_loss: 0.1444 - val_MAE: 0.2901\n",
            "Epoch 55/100\n",
            "2408/2408 [==============================] - 6s 3ms/step - loss: 0.1461 - MAE: 0.2915 - val_loss: 0.1443 - val_MAE: 0.2924\n",
            "Epoch 56/100\n",
            "2408/2408 [==============================] - 7s 3ms/step - loss: 0.1464 - MAE: 0.2929 - val_loss: 0.1445 - val_MAE: 0.2934\n",
            "Epoch 57/100\n",
            "2408/2408 [==============================] - 7s 3ms/step - loss: 0.1463 - MAE: 0.2922 - val_loss: 0.1446 - val_MAE: 0.2906\n",
            "Epoch 58/100\n",
            "2408/2408 [==============================] - 7s 3ms/step - loss: 0.1462 - MAE: 0.2933 - val_loss: 0.1445 - val_MAE: 0.2891\n",
            "Epoch 59/100\n",
            "2408/2408 [==============================] - 7s 3ms/step - loss: 0.1465 - MAE: 0.2916 - val_loss: 0.1449 - val_MAE: 0.2993\n",
            "Epoch 60/100\n",
            "2408/2408 [==============================] - 7s 3ms/step - loss: 0.1463 - MAE: 0.2924 - val_loss: 0.1447 - val_MAE: 0.2953\n",
            "Epoch 61/100\n",
            "2408/2408 [==============================] - 7s 3ms/step - loss: 0.1468 - MAE: 0.2941 - val_loss: 0.1443 - val_MAE: 0.2963\n",
            "Epoch 62/100\n",
            "2408/2408 [==============================] - 6s 3ms/step - loss: 0.1463 - MAE: 0.2917 - val_loss: 0.1447 - val_MAE: 0.2921\n",
            "Epoch 63/100\n",
            "2408/2408 [==============================] - 8s 3ms/step - loss: 0.1464 - MAE: 0.2933 - val_loss: 0.1447 - val_MAE: 0.2857\n",
            "Epoch 64/100\n",
            "2408/2408 [==============================] - 7s 3ms/step - loss: 0.1462 - MAE: 0.2915 - val_loss: 0.1447 - val_MAE: 0.2860\n",
            "Epoch 65/100\n",
            "2408/2408 [==============================] - 7s 3ms/step - loss: 0.1466 - MAE: 0.2935 - val_loss: 0.1445 - val_MAE: 0.2892\n",
            "Epoch 66/100\n",
            "2408/2408 [==============================] - 6s 3ms/step - loss: 0.1462 - MAE: 0.2921 - val_loss: 0.1446 - val_MAE: 0.2904\n",
            "Epoch 67/100\n",
            "2408/2408 [==============================] - 7s 3ms/step - loss: 0.1466 - MAE: 0.2941 - val_loss: 0.1445 - val_MAE: 0.2883\n",
            "Epoch 68/100\n",
            "2408/2408 [==============================] - 6s 3ms/step - loss: 0.1462 - MAE: 0.2932 - val_loss: 0.1448 - val_MAE: 0.2902\n",
            "Epoch 69/100\n",
            "2408/2408 [==============================] - 8s 3ms/step - loss: 0.1465 - MAE: 0.2924 - val_loss: 0.1445 - val_MAE: 0.2875\n",
            "Epoch 70/100\n",
            "2408/2408 [==============================] - 6s 2ms/step - loss: 0.1460 - MAE: 0.2919 - val_loss: 0.1444 - val_MAE: 0.2869\n",
            "Epoch 71/100\n",
            "2408/2408 [==============================] - 8s 3ms/step - loss: 0.1464 - MAE: 0.2924 - val_loss: 0.1444 - val_MAE: 0.2920\n",
            "Epoch 72/100\n",
            "2408/2408 [==============================] - 7s 3ms/step - loss: 0.1457 - MAE: 0.2911 - val_loss: 0.1442 - val_MAE: 0.2916\n",
            "Epoch 73/100\n",
            "2408/2408 [==============================] - 7s 3ms/step - loss: 0.1464 - MAE: 0.2935 - val_loss: 0.1442 - val_MAE: 0.2866\n",
            "Epoch 74/100\n",
            "2408/2408 [==============================] - 6s 3ms/step - loss: 0.1464 - MAE: 0.2924 - val_loss: 0.1445 - val_MAE: 0.2908\n",
            "Epoch 75/100\n",
            "2408/2408 [==============================] - 7s 3ms/step - loss: 0.1464 - MAE: 0.2924 - val_loss: 0.1447 - val_MAE: 0.2899\n",
            "Epoch 76/100\n",
            "2408/2408 [==============================] - 7s 3ms/step - loss: 0.1468 - MAE: 0.2934 - val_loss: 0.1447 - val_MAE: 0.2944\n",
            "Epoch 77/100\n",
            "2408/2408 [==============================] - 7s 3ms/step - loss: 0.1468 - MAE: 0.2939 - val_loss: 0.1443 - val_MAE: 0.2917\n",
            "Epoch 78/100\n",
            "2408/2408 [==============================] - 8s 3ms/step - loss: 0.1465 - MAE: 0.2924 - val_loss: 0.1447 - val_MAE: 0.2943\n",
            "Epoch 79/100\n",
            "2408/2408 [==============================] - 6s 3ms/step - loss: 0.1467 - MAE: 0.2937 - val_loss: 0.1446 - val_MAE: 0.2943\n",
            "Epoch 80/100\n",
            "2408/2408 [==============================] - 7s 3ms/step - loss: 0.1459 - MAE: 0.2912 - val_loss: 0.1448 - val_MAE: 0.2934\n",
            "Epoch 81/100\n",
            "2408/2408 [==============================] - 6s 3ms/step - loss: 0.1464 - MAE: 0.2921 - val_loss: 0.1447 - val_MAE: 0.2959\n",
            "Epoch 82/100\n",
            "2408/2408 [==============================] - 7s 3ms/step - loss: 0.1464 - MAE: 0.2937 - val_loss: 0.1446 - val_MAE: 0.2890\n",
            "Epoch 83/100\n",
            "2408/2408 [==============================] - 6s 3ms/step - loss: 0.1465 - MAE: 0.2926 - val_loss: 0.1447 - val_MAE: 0.2930\n",
            "Epoch 84/100\n",
            "2408/2408 [==============================] - 7s 3ms/step - loss: 0.1466 - MAE: 0.2933 - val_loss: 0.1446 - val_MAE: 0.2887\n",
            "Epoch 85/100\n",
            "2408/2408 [==============================] - 7s 3ms/step - loss: 0.1460 - MAE: 0.2916 - val_loss: 0.1443 - val_MAE: 0.2912\n",
            "Epoch 86/100\n",
            "2408/2408 [==============================] - 8s 3ms/step - loss: 0.1462 - MAE: 0.2914 - val_loss: 0.1445 - val_MAE: 0.2975\n",
            "Epoch 87/100\n",
            "2408/2408 [==============================] - 6s 2ms/step - loss: 0.1462 - MAE: 0.2923 - val_loss: 0.1448 - val_MAE: 0.2907\n",
            "Epoch 88/100\n",
            "2408/2408 [==============================] - 8s 3ms/step - loss: 0.1464 - MAE: 0.2926 - val_loss: 0.1445 - val_MAE: 0.2918\n",
            "Epoch 89/100\n",
            "2408/2408 [==============================] - 7s 3ms/step - loss: 0.1463 - MAE: 0.2926 - val_loss: 0.1446 - val_MAE: 0.2939\n",
            "Epoch 90/100\n",
            "2408/2408 [==============================] - 7s 3ms/step - loss: 0.1464 - MAE: 0.2928 - val_loss: 0.1444 - val_MAE: 0.2921\n",
            "Epoch 91/100\n",
            "2408/2408 [==============================] - 7s 3ms/step - loss: 0.1464 - MAE: 0.2923 - val_loss: 0.1449 - val_MAE: 0.2916\n",
            "Epoch 92/100\n",
            "2408/2408 [==============================] - 7s 3ms/step - loss: 0.1465 - MAE: 0.2930 - val_loss: 0.1447 - val_MAE: 0.2928\n",
            "Epoch 93/100\n",
            "2408/2408 [==============================] - 7s 3ms/step - loss: 0.1466 - MAE: 0.2930 - val_loss: 0.1444 - val_MAE: 0.2924\n",
            "Epoch 94/100\n",
            "2408/2408 [==============================] - 6s 3ms/step - loss: 0.1464 - MAE: 0.2926 - val_loss: 0.1444 - val_MAE: 0.2913\n",
            "Epoch 95/100\n",
            "2408/2408 [==============================] - 7s 3ms/step - loss: 0.1464 - MAE: 0.2926 - val_loss: 0.1445 - val_MAE: 0.2909\n",
            "Epoch 96/100\n",
            "2408/2408 [==============================] - 7s 3ms/step - loss: 0.1460 - MAE: 0.2929 - val_loss: 0.1442 - val_MAE: 0.2870\n",
            "Epoch 97/100\n",
            "2408/2408 [==============================] - 7s 3ms/step - loss: 0.1461 - MAE: 0.2915 - val_loss: 0.1444 - val_MAE: 0.2880\n",
            "Epoch 98/100\n",
            "2408/2408 [==============================] - 6s 3ms/step - loss: 0.1470 - MAE: 0.2938 - val_loss: 0.1444 - val_MAE: 0.2871\n",
            "Epoch 99/100\n",
            "2408/2408 [==============================] - 7s 3ms/step - loss: 0.1463 - MAE: 0.2915 - val_loss: 0.1447 - val_MAE: 0.2911\n",
            "Epoch 100/100\n",
            "2408/2408 [==============================] - 6s 3ms/step - loss: 0.1464 - MAE: 0.2932 - val_loss: 0.1444 - val_MAE: 0.2912\n"
          ]
        }
      ],
      "source": [
        "classifier = Sequential()\n",
        "\n",
        "classifier.add(Dense(units=10, input_dim=12,kernel_initializer='he_uniform'))\n",
        "classifier.add(BatchNormalization())\n",
        "classifier.add(Activation('relu'))\n",
        "classifier.add(Dense(units=8, kernel_initializer='he_uniform'))\n",
        "classifier.add(BatchNormalization())\n",
        "classifier.add(Activation('relu'))\n",
        "classifier.add(Dense(units=6, kernel_initializer='he_uniform'))\n",
        "classifier.add(BatchNormalization())\n",
        "classifier.add(Activation('relu'))\n",
        "classifier.add(Dropout(0.2))\n",
        "classifier.add(Dense(units=3, kernel_initializer='he_uniform'))\n",
        "classifier.add(BatchNormalization())\n",
        "classifier.add(Activation('relu'))\n",
        "classifier.add(Dense(units=1,kernel_initializer='he_uniform'))\n",
        "classifier.add(Activation('sigmoid'))\n",
        "\n",
        "optim = AdamW(learning_rate=0.001)\n",
        "classifier.compile(optimizer=optim,loss='MeanSquaredError', metrics=['MAE'])\n",
        "\n",
        "ANN_Model=classifier.fit(X_train,y_train, validation_data = (X_valid, y_valid),batch_size=8, epochs=100, verbose=1)\n",
        "#ANN_Model=classifier.fit(X_train, y_train, validation_data = (X_val, y_val), batch_size = 10 epochs=10, verbose=1)\n",
        " # Train set's 1~2%, current = 1~2% epochs = 500, # Train set's 10%, current = 20% verbose = 1, # 0=silent, 1=progress bar, 2=one line per epoch. )"
      ]
    },
    {
      "cell_type": "code",
      "execution_count": null,
      "metadata": {
        "id": "IVsw7mEA9Ar_",
        "colab": {
          "base_uri": "https://localhost:8080/"
        },
        "outputId": "b63cc699-2e23-4902-bfdc-66fae606af88"
      },
      "outputs": [
        {
          "output_type": "stream",
          "name": "stdout",
          "text": [
            "172/172 [==============================] - 0s 1ms/step\n"
          ]
        }
      ],
      "source": [
        "ANN_inf=classifier.predict(X_valid)"
      ]
    },
    {
      "cell_type": "code",
      "execution_count": null,
      "metadata": {
        "id": "JD9syB9JLipY",
        "colab": {
          "base_uri": "https://localhost:8080/"
        },
        "outputId": "71d6b5cc-9e68-4f5e-c830-6ccc58bf4089"
      },
      "outputs": [
        {
          "output_type": "execute_result",
          "data": {
            "text/plain": [
              "array([[0.0781612 ],\n",
              "       [0.27628207],\n",
              "       [0.25711745],\n",
              "       ...,\n",
              "       [0.24809256],\n",
              "       [0.10979054],\n",
              "       [0.24163705]], dtype=float32)"
            ]
          },
          "metadata": {},
          "execution_count": 16
        }
      ],
      "source": [
        "ANN_inf"
      ]
    },
    {
      "cell_type": "code",
      "execution_count": null,
      "metadata": {
        "id": "Zf6dBabtMXqT",
        "colab": {
          "base_uri": "https://localhost:8080/"
        },
        "outputId": "714e1704-f21f-4ba9-f30d-94ede38d0d7f"
      },
      "outputs": [
        {
          "output_type": "execute_result",
          "data": {
            "text/plain": [
              "5503"
            ]
          },
          "metadata": {},
          "execution_count": 17
        }
      ],
      "source": [
        "len(y_valid)"
      ]
    },
    {
      "cell_type": "code",
      "execution_count": null,
      "metadata": {
        "id": "DNkZQcoPMTOq",
        "colab": {
          "base_uri": "https://localhost:8080/"
        },
        "outputId": "2f75f0e8-093c-4bd8-b6b2-9105bd5480d9"
      },
      "outputs": [
        {
          "output_type": "execute_result",
          "data": {
            "text/plain": [
              "(5503, 1)"
            ]
          },
          "metadata": {},
          "execution_count": 18
        }
      ],
      "source": [
        "ANN_inf.shape"
      ]
    },
    {
      "cell_type": "code",
      "source": [
        "history = ANN_Model"
      ],
      "metadata": {
        "id": "XCfLn9dIyA5O"
      },
      "execution_count": null,
      "outputs": []
    },
    {
      "cell_type": "code",
      "source": [
        "from tensorflow.keras.models import Model"
      ],
      "metadata": {
        "id": "oEpJxMQUyY_0"
      },
      "execution_count": null,
      "outputs": []
    },
    {
      "cell_type": "code",
      "source": [
        "# loss and acc graph (train nd val)\n",
        "history_df = pd.DataFrame(history.history)\n",
        "history_df[[\"loss\", \"val_loss\"]].plot()\n",
        "\n",
        "    # Acc and Loss about real data\n",
        "learning_loss, _ = classifier.evaluate(X_valid, y_valid, verbose=2)\n",
        "y_pred = classifier.predict(ANN_inf)\n",
        "\n",
        "print(\"Learning loss(MSE) % :\", learning_loss * 100)\n",
        "print(\"Learning accuracy(MSE) % :\", 100 - (learning_loss * 100))"
      ],
      "metadata": {
        "colab": {
          "base_uri": "https://localhost:8080/",
          "height": 1000
        },
        "id": "-6dixeVxo-Yu",
        "outputId": "8f6033f9-2689-4373-c09b-82e89d22951e"
      },
      "execution_count": null,
      "outputs": [
        {
          "output_type": "stream",
          "name": "stdout",
          "text": [
            "172/172 - 0s - loss: 0.1444 - MAE: 0.2912 - 191ms/epoch - 1ms/step\n"
          ]
        },
        {
          "output_type": "stream",
          "name": "stderr",
          "text": [
            "WARNING:tensorflow:Model was constructed with shape (None, 12) for input KerasTensor(type_spec=TensorSpec(shape=(None, 12), dtype=tf.float32, name='dense_input'), name='dense_input', description=\"created by layer 'dense_input'\"), but it was called on an input with incompatible shape (None, 1).\n"
          ]
        },
        {
          "output_type": "error",
          "ename": "ValueError",
          "evalue": "ignored",
          "traceback": [
            "\u001b[0;31m---------------------------------------------------------------------------\u001b[0m",
            "\u001b[0;31mValueError\u001b[0m                                Traceback (most recent call last)",
            "\u001b[0;32m<ipython-input-21-be3bc8147951>\u001b[0m in \u001b[0;36m<module>\u001b[0;34m\u001b[0m\n\u001b[1;32m      5\u001b[0m     \u001b[0;31m# Acc and Loss about real data\u001b[0m\u001b[0;34m\u001b[0m\u001b[0;34m\u001b[0m\u001b[0;34m\u001b[0m\u001b[0m\n\u001b[1;32m      6\u001b[0m \u001b[0mlearning_loss\u001b[0m\u001b[0;34m,\u001b[0m \u001b[0m_\u001b[0m \u001b[0;34m=\u001b[0m \u001b[0mclassifier\u001b[0m\u001b[0;34m.\u001b[0m\u001b[0mevaluate\u001b[0m\u001b[0;34m(\u001b[0m\u001b[0mX_valid\u001b[0m\u001b[0;34m,\u001b[0m \u001b[0my_valid\u001b[0m\u001b[0;34m,\u001b[0m \u001b[0mverbose\u001b[0m\u001b[0;34m=\u001b[0m\u001b[0;36m2\u001b[0m\u001b[0;34m)\u001b[0m\u001b[0;34m\u001b[0m\u001b[0;34m\u001b[0m\u001b[0m\n\u001b[0;32m----> 7\u001b[0;31m \u001b[0my_pred\u001b[0m \u001b[0;34m=\u001b[0m \u001b[0mclassifier\u001b[0m\u001b[0;34m.\u001b[0m\u001b[0mpredict\u001b[0m\u001b[0;34m(\u001b[0m\u001b[0mANN_inf\u001b[0m\u001b[0;34m)\u001b[0m\u001b[0;34m\u001b[0m\u001b[0;34m\u001b[0m\u001b[0m\n\u001b[0m\u001b[1;32m      8\u001b[0m \u001b[0;34m\u001b[0m\u001b[0m\n\u001b[1;32m      9\u001b[0m \u001b[0mprint\u001b[0m\u001b[0;34m(\u001b[0m\u001b[0;34m\"Learning loss(MSE) % :\"\u001b[0m\u001b[0;34m,\u001b[0m \u001b[0mlearning_loss\u001b[0m \u001b[0;34m*\u001b[0m \u001b[0;36m100\u001b[0m\u001b[0;34m)\u001b[0m\u001b[0;34m\u001b[0m\u001b[0;34m\u001b[0m\u001b[0m\n",
            "\u001b[0;32m/usr/local/lib/python3.8/dist-packages/keras/utils/traceback_utils.py\u001b[0m in \u001b[0;36merror_handler\u001b[0;34m(*args, **kwargs)\u001b[0m\n\u001b[1;32m     68\u001b[0m             \u001b[0;31m# To get the full stack trace, call:\u001b[0m\u001b[0;34m\u001b[0m\u001b[0;34m\u001b[0m\u001b[0;34m\u001b[0m\u001b[0m\n\u001b[1;32m     69\u001b[0m             \u001b[0;31m# `tf.debugging.disable_traceback_filtering()`\u001b[0m\u001b[0;34m\u001b[0m\u001b[0;34m\u001b[0m\u001b[0;34m\u001b[0m\u001b[0m\n\u001b[0;32m---> 70\u001b[0;31m             \u001b[0;32mraise\u001b[0m \u001b[0me\u001b[0m\u001b[0;34m.\u001b[0m\u001b[0mwith_traceback\u001b[0m\u001b[0;34m(\u001b[0m\u001b[0mfiltered_tb\u001b[0m\u001b[0;34m)\u001b[0m \u001b[0;32mfrom\u001b[0m \u001b[0;32mNone\u001b[0m\u001b[0;34m\u001b[0m\u001b[0;34m\u001b[0m\u001b[0m\n\u001b[0m\u001b[1;32m     71\u001b[0m         \u001b[0;32mfinally\u001b[0m\u001b[0;34m:\u001b[0m\u001b[0;34m\u001b[0m\u001b[0;34m\u001b[0m\u001b[0m\n\u001b[1;32m     72\u001b[0m             \u001b[0;32mdel\u001b[0m \u001b[0mfiltered_tb\u001b[0m\u001b[0;34m\u001b[0m\u001b[0;34m\u001b[0m\u001b[0m\n",
            "\u001b[0;32m/usr/local/lib/python3.8/dist-packages/keras/engine/training.py\u001b[0m in \u001b[0;36mtf__predict_function\u001b[0;34m(iterator)\u001b[0m\n\u001b[1;32m     13\u001b[0m                 \u001b[0;32mtry\u001b[0m\u001b[0;34m:\u001b[0m\u001b[0;34m\u001b[0m\u001b[0;34m\u001b[0m\u001b[0m\n\u001b[1;32m     14\u001b[0m                     \u001b[0mdo_return\u001b[0m \u001b[0;34m=\u001b[0m \u001b[0;32mTrue\u001b[0m\u001b[0;34m\u001b[0m\u001b[0;34m\u001b[0m\u001b[0m\n\u001b[0;32m---> 15\u001b[0;31m                     \u001b[0mretval_\u001b[0m \u001b[0;34m=\u001b[0m \u001b[0mag__\u001b[0m\u001b[0;34m.\u001b[0m\u001b[0mconverted_call\u001b[0m\u001b[0;34m(\u001b[0m\u001b[0mag__\u001b[0m\u001b[0;34m.\u001b[0m\u001b[0mld\u001b[0m\u001b[0;34m(\u001b[0m\u001b[0mstep_function\u001b[0m\u001b[0;34m)\u001b[0m\u001b[0;34m,\u001b[0m \u001b[0;34m(\u001b[0m\u001b[0mag__\u001b[0m\u001b[0;34m.\u001b[0m\u001b[0mld\u001b[0m\u001b[0;34m(\u001b[0m\u001b[0mself\u001b[0m\u001b[0;34m)\u001b[0m\u001b[0;34m,\u001b[0m \u001b[0mag__\u001b[0m\u001b[0;34m.\u001b[0m\u001b[0mld\u001b[0m\u001b[0;34m(\u001b[0m\u001b[0miterator\u001b[0m\u001b[0;34m)\u001b[0m\u001b[0;34m)\u001b[0m\u001b[0;34m,\u001b[0m \u001b[0;32mNone\u001b[0m\u001b[0;34m,\u001b[0m \u001b[0mfscope\u001b[0m\u001b[0;34m)\u001b[0m\u001b[0;34m\u001b[0m\u001b[0;34m\u001b[0m\u001b[0m\n\u001b[0m\u001b[1;32m     16\u001b[0m                 \u001b[0;32mexcept\u001b[0m\u001b[0;34m:\u001b[0m\u001b[0;34m\u001b[0m\u001b[0;34m\u001b[0m\u001b[0m\n\u001b[1;32m     17\u001b[0m                     \u001b[0mdo_return\u001b[0m \u001b[0;34m=\u001b[0m \u001b[0;32mFalse\u001b[0m\u001b[0;34m\u001b[0m\u001b[0;34m\u001b[0m\u001b[0m\n",
            "\u001b[0;31mValueError\u001b[0m: in user code:\n\n    File \"/usr/local/lib/python3.8/dist-packages/keras/engine/training.py\", line 2137, in predict_function  *\n        return step_function(self, iterator)\n    File \"/usr/local/lib/python3.8/dist-packages/keras/engine/training.py\", line 2123, in step_function  **\n        outputs = model.distribute_strategy.run(run_step, args=(data,))\n    File \"/usr/local/lib/python3.8/dist-packages/keras/engine/training.py\", line 2111, in run_step  **\n        outputs = model.predict_step(data)\n    File \"/usr/local/lib/python3.8/dist-packages/keras/engine/training.py\", line 2079, in predict_step\n        return self(x, training=False)\n    File \"/usr/local/lib/python3.8/dist-packages/keras/utils/traceback_utils.py\", line 70, in error_handler\n        raise e.with_traceback(filtered_tb) from None\n    File \"/usr/local/lib/python3.8/dist-packages/keras/engine/input_spec.py\", line 277, in assert_input_compatibility\n        raise ValueError(\n\n    ValueError: Exception encountered when calling layer 'sequential' (type Sequential).\n    \n    Input 0 of layer \"dense\" is incompatible with the layer: expected axis -1 of input shape to have value 12, but received input with shape (None, 1)\n    \n    Call arguments received by layer 'sequential' (type Sequential):\n      • inputs=tf.Tensor(shape=(None, 1), dtype=float32)\n      • training=False\n      • mask=None\n"
          ]
        },
        {
          "output_type": "display_data",
          "data": {
            "text/plain": [
              "<Figure size 432x288 with 1 Axes>"
            ],
            "image/png": "[encoded data removed]"
          },
          "metadata": {
            "needs_background": "light"
          }
        }
      ]
    }
  ],
  "metadata": {
    "colab": {
      "provenance": [],
      "include_colab_link": true
    },
    "kernelspec": {
      "display_name": "Python 3",
      "name": "python3"
    },
    "language_info": {
      "name": "python"
    }
  },
  "nbformat": 4,
  "nbformat_minor": 0
}